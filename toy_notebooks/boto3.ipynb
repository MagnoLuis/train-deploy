{
 "cells": [
  {
   "cell_type": "code",
   "execution_count": 1,
   "id": "a52a8786",
   "metadata": {},
   "outputs": [],
   "source": [
    "import boto3\n",
    "import os"
   ]
  },
  {
   "cell_type": "code",
   "execution_count": 4,
   "id": "70fbe304",
   "metadata": {},
   "outputs": [],
   "source": [
    "ec2 = boto3.client('ec2', region_name=os.environ.get('AWS_REGION', 'us-east-2'))"
   ]
  },
  {
   "cell_type": "code",
   "execution_count": 8,
   "id": "5fb81150",
   "metadata": {},
   "outputs": [
    {
     "data": {
      "text/plain": [
       "{'Reservations': [{'ReservationId': 'r-0de9975726ea4b08a',\n",
       "   'OwnerId': '868017909621',\n",
       "   'Groups': [],\n",
       "   'Instances': [{'Architecture': 'x86_64',\n",
       "     'BlockDeviceMappings': [{'DeviceName': '/dev/xvda',\n",
       "       'Ebs': {'AttachTime': datetime.datetime(2025, 6, 28, 20, 45, 25, tzinfo=tzutc()),\n",
       "        'DeleteOnTermination': True,\n",
       "        'Status': 'attached',\n",
       "        'VolumeId': 'vol-09c4f3bcc9d29fc7f'}}],\n",
       "     'ClientToken': '6e885982-f56e-482c-9fec-772c14929f07',\n",
       "     'EbsOptimized': False,\n",
       "     'EnaSupport': True,\n",
       "     'Hypervisor': 'xen',\n",
       "     'NetworkInterfaces': [{'Association': {'IpOwnerId': 'amazon',\n",
       "        'PublicDnsName': 'ec2-18-191-135-22.us-east-2.compute.amazonaws.com',\n",
       "        'PublicIp': '18.191.135.22'},\n",
       "       'Attachment': {'AttachTime': datetime.datetime(2025, 6, 28, 20, 45, 25, tzinfo=tzutc()),\n",
       "        'AttachmentId': 'eni-attach-003336b741462b55a',\n",
       "        'DeleteOnTermination': True,\n",
       "        'DeviceIndex': 0,\n",
       "        'Status': 'attached',\n",
       "        'NetworkCardIndex': 0},\n",
       "       'Description': '',\n",
       "       'Groups': [{'GroupId': 'sg-037e1fcd80b892d54', 'GroupName': 'default'}],\n",
       "       'Ipv6Addresses': [],\n",
       "       'MacAddress': '02:31:5f:77:44:0b',\n",
       "       'NetworkInterfaceId': 'eni-05d1f39ad365a453a',\n",
       "       'OwnerId': '868017909621',\n",
       "       'PrivateDnsName': 'ip-172-31-4-183.us-east-2.compute.internal',\n",
       "       'PrivateIpAddress': '172.31.4.183',\n",
       "       'PrivateIpAddresses': [{'Association': {'IpOwnerId': 'amazon',\n",
       "          'PublicDnsName': 'ec2-18-191-135-22.us-east-2.compute.amazonaws.com',\n",
       "          'PublicIp': '18.191.135.22'},\n",
       "         'Primary': True,\n",
       "         'PrivateDnsName': 'ip-172-31-4-183.us-east-2.compute.internal',\n",
       "         'PrivateIpAddress': '172.31.4.183'}],\n",
       "       'SourceDestCheck': True,\n",
       "       'Status': 'in-use',\n",
       "       'SubnetId': 'subnet-075b8dbd1440c719b',\n",
       "       'VpcId': 'vpc-0097d1f6a590069ba',\n",
       "       'InterfaceType': 'interface',\n",
       "       'Operator': {'Managed': False}}],\n",
       "     'RootDeviceName': '/dev/xvda',\n",
       "     'RootDeviceType': 'ebs',\n",
       "     'SecurityGroups': [{'GroupId': 'sg-037e1fcd80b892d54',\n",
       "       'GroupName': 'default'}],\n",
       "     'SourceDestCheck': True,\n",
       "     'VirtualizationType': 'hvm',\n",
       "     'CpuOptions': {'CoreCount': 1, 'ThreadsPerCore': 1},\n",
       "     'CapacityReservationSpecification': {'CapacityReservationPreference': 'open'},\n",
       "     'HibernationOptions': {'Configured': False},\n",
       "     'MetadataOptions': {'State': 'applied',\n",
       "      'HttpTokens': 'required',\n",
       "      'HttpPutResponseHopLimit': 2,\n",
       "      'HttpEndpoint': 'enabled',\n",
       "      'HttpProtocolIpv6': 'disabled',\n",
       "      'InstanceMetadataTags': 'disabled'},\n",
       "     'EnclaveOptions': {'Enabled': False},\n",
       "     'BootMode': 'uefi-preferred',\n",
       "     'PlatformDetails': 'Linux/UNIX',\n",
       "     'UsageOperation': 'RunInstances',\n",
       "     'UsageOperationUpdateTime': datetime.datetime(2025, 6, 28, 20, 45, 25, tzinfo=tzutc()),\n",
       "     'PrivateDnsNameOptions': {'HostnameType': 'ip-name',\n",
       "      'EnableResourceNameDnsARecord': False,\n",
       "      'EnableResourceNameDnsAAAARecord': False},\n",
       "     'MaintenanceOptions': {'AutoRecovery': 'default',\n",
       "      'RebootMigration': 'default'},\n",
       "     'CurrentInstanceBootMode': 'legacy-bios',\n",
       "     'NetworkPerformanceOptions': {'BandwidthWeighting': 'default'},\n",
       "     'Operator': {'Managed': False},\n",
       "     'InstanceId': 'i-08c84ab7bba4f4a1d',\n",
       "     'ImageId': 'ami-0c803b171269e2d72',\n",
       "     'State': {'Code': 16, 'Name': 'running'},\n",
       "     'PrivateDnsName': 'ip-172-31-4-183.us-east-2.compute.internal',\n",
       "     'PublicDnsName': 'ec2-18-191-135-22.us-east-2.compute.amazonaws.com',\n",
       "     'StateTransitionReason': '',\n",
       "     'KeyName': 'test',\n",
       "     'AmiLaunchIndex': 0,\n",
       "     'ProductCodes': [],\n",
       "     'InstanceType': 't2.micro',\n",
       "     'LaunchTime': datetime.datetime(2025, 6, 28, 20, 45, 25, tzinfo=tzutc()),\n",
       "     'Placement': {'GroupName': '',\n",
       "      'Tenancy': 'default',\n",
       "      'AvailabilityZone': 'us-east-2a'},\n",
       "     'Monitoring': {'State': 'disabled'},\n",
       "     'SubnetId': 'subnet-075b8dbd1440c719b',\n",
       "     'VpcId': 'vpc-0097d1f6a590069ba',\n",
       "     'PrivateIpAddress': '172.31.4.183',\n",
       "     'PublicIpAddress': '18.191.135.22'}]}],\n",
       " 'ResponseMetadata': {'RequestId': 'a6bbbd2d-19ea-4d96-a0af-bc22c8607bda',\n",
       "  'HTTPStatusCode': 200,\n",
       "  'HTTPHeaders': {'x-amzn-requestid': 'a6bbbd2d-19ea-4d96-a0af-bc22c8607bda',\n",
       "   'cache-control': 'no-cache, no-store',\n",
       "   'strict-transport-security': 'max-age=31536000; includeSubDomains',\n",
       "   'vary': 'accept-encoding',\n",
       "   'content-type': 'text/xml;charset=UTF-8',\n",
       "   'content-length': '5257',\n",
       "   'date': 'Sat, 28 Jun 2025 20:45:56 GMT',\n",
       "   'server': 'AmazonEC2'},\n",
       "  'RetryAttempts': 0}}"
      ]
     },
     "execution_count": 8,
     "metadata": {},
     "output_type": "execute_result"
    }
   ],
   "source": [
    "ec2.describe_instances()"
   ]
  },
  {
   "cell_type": "code",
   "execution_count": 6,
   "id": "951f60f2",
   "metadata": {},
   "outputs": [],
   "source": [
    "response = ec2.run_instances(\n",
    "    ImageId = 'ami-0c803b171269e2d72',\n",
    "    MinCount=1,\n",
    "    MaxCount=1,\n",
    "    InstanceType='t2.micro',\n",
    "    KeyName='test',\n",
    "    BlockDeviceMappings=[\n",
    "        {\n",
    "            \"DeviceName\": \"/dev/xvda\",\n",
    "            'Ebs':{\n",
    "                'DeleteOnTermination': True,\n",
    "                'VolumeSize': 20\n",
    "            }\n",
    "        }\n",
    "    ]\n",
    "\n",
    ")"
   ]
  },
  {
   "cell_type": "code",
   "execution_count": 4,
   "id": "791ebaf4",
   "metadata": {},
   "outputs": [],
   "source": [
    "s3 = boto3.client('s3')"
   ]
  },
  {
   "cell_type": "code",
   "execution_count": 5,
   "id": "17373f51",
   "metadata": {},
   "outputs": [
    {
     "data": {
      "text/plain": [
       "<botocore.client.S3 at 0x1be26127cb0>"
      ]
     },
     "execution_count": 5,
     "metadata": {},
     "output_type": "execute_result"
    }
   ],
   "source": [
    "s3"
   ]
  },
  {
   "cell_type": "code",
   "execution_count": 9,
   "id": "80f5bec0",
   "metadata": {},
   "outputs": [],
   "source": [
    "def create_bucket(bucket_name):\n",
    "    try:\n",
    "        s3.create_bucket(Bucket=bucket_name)\n",
    "        print(f\"Bucket {bucket_name} created successfully.\")\n",
    "    except Exception as e:\n",
    "        print(f\"Error creating bucket {bucket_name}: {e}\")"
   ]
  },
  {
   "cell_type": "code",
   "execution_count": 14,
   "id": "fe5586d5",
   "metadata": {},
   "outputs": [
    {
     "name": "stdout",
     "output_type": "stream",
     "text": [
      "Bucket magnolima-mlops-2025 created successfully.\n"
     ]
    }
   ],
   "source": [
    "create_bucket('magnolima-mlops-2025')"
   ]
  },
  {
   "cell_type": "code",
   "execution_count": null,
   "id": "2a037644",
   "metadata": {},
   "outputs": [],
   "source": [
    "import streamlit as st\n",
    "import os\n",
    "import boto3\n",
    "\n",
    "bucket_name = \"magnolima-mlops-2025\"\n",
    "\n",
    "s3 = boto3.client('s3')\n",
    "\n",
    "def download_dir(local_path, model_name):\n",
    "    s3_prefix = f'ml-models/{model_name}/'\n",
    "    os.makedirs(local_path, exist_ok=True)\n",
    "    paginator = s3.get_paginator('list_objects_v2')\n",
    "    for result in paginator.paginate(Bucket=bucket_name, Prefix=s3_prefix):\n",
    "        if 'Contents' in result:\n",
    "            for key in result['Contents']:\n",
    "                s3_key = key['Key']\n",
    "\n",
    "                local_file = os.path.join(local_path, os.path.relpath(s3_key, s3_prefix))\n",
    "                # os.makedirs(os.path.dirname(local_file), exist_ok=True)\n",
    "\n",
    "                s3.download_file(bucket_name, s3_key, local_file)"
   ]
  },
  {
   "cell_type": "code",
   "execution_count": 9,
   "id": "f03af360",
   "metadata": {},
   "outputs": [
    {
     "data": {
      "text/plain": [
       "[{'Key': 'ml-models/tinybert-disaster-tweet/config.json',\n",
       "  'LastModified': datetime.datetime(2025, 6, 21, 0, 23, 37, tzinfo=tzutc()),\n",
       "  'ETag': '\"86808e56850f72c0720a27a4cbe69301\"',\n",
       "  'ChecksumAlgorithm': ['CRC64NVME'],\n",
       "  'ChecksumType': 'FULL_OBJECT',\n",
       "  'Size': 889,\n",
       "  'StorageClass': 'STANDARD'},\n",
       " {'Key': 'ml-models/tinybert-disaster-tweet/model.safetensors',\n",
       "  'LastModified': datetime.datetime(2025, 6, 21, 0, 23, 37, tzinfo=tzutc()),\n",
       "  'ETag': '\"c6c038f6e07e71821dd50f0cf8492856-7\"',\n",
       "  'ChecksumAlgorithm': ['CRC64NVME'],\n",
       "  'ChecksumType': 'FULL_OBJECT',\n",
       "  'Size': 57411808,\n",
       "  'StorageClass': 'STANDARD'},\n",
       " {'Key': 'ml-models/tinybert-disaster-tweet/special_tokens_map.json',\n",
       "  'LastModified': datetime.datetime(2025, 6, 21, 0, 23, 51, tzinfo=tzutc()),\n",
       "  'ETag': '\"4725a11f0c217363800cfbc4a6c49a1e\"',\n",
       "  'ChecksumAlgorithm': ['CRC64NVME'],\n",
       "  'ChecksumType': 'FULL_OBJECT',\n",
       "  'Size': 132,\n",
       "  'StorageClass': 'STANDARD'},\n",
       " {'Key': 'ml-models/tinybert-disaster-tweet/tokenizer.json',\n",
       "  'LastModified': datetime.datetime(2025, 6, 21, 0, 23, 52, tzinfo=tzutc()),\n",
       "  'ETag': '\"76b09dc8a67b5477895ae0eaa550f693\"',\n",
       "  'ChecksumAlgorithm': ['CRC64NVME'],\n",
       "  'ChecksumType': 'FULL_OBJECT',\n",
       "  'Size': 711649,\n",
       "  'StorageClass': 'STANDARD'},\n",
       " {'Key': 'ml-models/tinybert-disaster-tweet/tokenizer_config.json',\n",
       "  'LastModified': datetime.datetime(2025, 6, 21, 0, 23, 53, tzinfo=tzutc()),\n",
       "  'ETag': '\"478bbf57f9a7e38a931f65ae1c1fd90d\"',\n",
       "  'ChecksumAlgorithm': ['CRC64NVME'],\n",
       "  'ChecksumType': 'FULL_OBJECT',\n",
       "  'Size': 1358,\n",
       "  'StorageClass': 'STANDARD'},\n",
       " {'Key': 'ml-models/tinybert-disaster-tweet/training_args.bin',\n",
       "  'LastModified': datetime.datetime(2025, 6, 21, 0, 23, 53, tzinfo=tzutc()),\n",
       "  'ETag': '\"41b8434293a7737e8d9fd0d1be56ddb7\"',\n",
       "  'ChecksumAlgorithm': ['CRC64NVME'],\n",
       "  'ChecksumType': 'FULL_OBJECT',\n",
       "  'Size': 5649,\n",
       "  'StorageClass': 'STANDARD'},\n",
       " {'Key': 'ml-models/tinybert-disaster-tweet/vocab.txt',\n",
       "  'LastModified': datetime.datetime(2025, 6, 21, 0, 23, 53, tzinfo=tzutc()),\n",
       "  'ETag': '\"64800d5d8528ce344256daf115d4965e\"',\n",
       "  'ChecksumAlgorithm': ['CRC64NVME'],\n",
       "  'ChecksumType': 'FULL_OBJECT',\n",
       "  'Size': 231508,\n",
       "  'StorageClass': 'STANDARD'}]"
      ]
     },
     "execution_count": 9,
     "metadata": {},
     "output_type": "execute_result"
    }
   ],
   "source": [
    "result['Contents']"
   ]
  },
  {
   "cell_type": "code",
   "execution_count": 7,
   "id": "5549198c",
   "metadata": {},
   "outputs": [
    {
     "name": "stdout",
     "output_type": "stream",
     "text": [
      "{'ResponseMetadata': {'RequestId': 'AJVW3VX2WCF3M1JT', 'HostId': 'nym7IGTB3M3NEromfguFO6d99qIwtQOREaWEtLqliHKD2lkZabnIXwoWXT9QxqeCE5FjoTyfg35d+fDGrl4TFAy8hyZuhUPP', 'HTTPStatusCode': 200, 'HTTPHeaders': {'x-amz-id-2': 'nym7IGTB3M3NEromfguFO6d99qIwtQOREaWEtLqliHKD2lkZabnIXwoWXT9QxqeCE5FjoTyfg35d+fDGrl4TFAy8hyZuhUPP', 'x-amz-request-id': 'AJVW3VX2WCF3M1JT', 'date': 'Sun, 22 Jun 2025 22:32:38 GMT', 'x-amz-bucket-region': 'us-east-1', 'content-type': 'application/xml', 'transfer-encoding': 'chunked', 'server': 'AmazonS3'}, 'RetryAttempts': 0}, 'IsTruncated': False, 'Contents': [{'Key': 'ml-models/tinybert-disaster-tweet/config.json', 'LastModified': datetime.datetime(2025, 6, 21, 0, 23, 37, tzinfo=tzutc()), 'ETag': '\"86808e56850f72c0720a27a4cbe69301\"', 'ChecksumAlgorithm': ['CRC64NVME'], 'ChecksumType': 'FULL_OBJECT', 'Size': 889, 'StorageClass': 'STANDARD'}, {'Key': 'ml-models/tinybert-disaster-tweet/model.safetensors', 'LastModified': datetime.datetime(2025, 6, 21, 0, 23, 37, tzinfo=tzutc()), 'ETag': '\"c6c038f6e07e71821dd50f0cf8492856-7\"', 'ChecksumAlgorithm': ['CRC64NVME'], 'ChecksumType': 'FULL_OBJECT', 'Size': 57411808, 'StorageClass': 'STANDARD'}, {'Key': 'ml-models/tinybert-disaster-tweet/special_tokens_map.json', 'LastModified': datetime.datetime(2025, 6, 21, 0, 23, 51, tzinfo=tzutc()), 'ETag': '\"4725a11f0c217363800cfbc4a6c49a1e\"', 'ChecksumAlgorithm': ['CRC64NVME'], 'ChecksumType': 'FULL_OBJECT', 'Size': 132, 'StorageClass': 'STANDARD'}, {'Key': 'ml-models/tinybert-disaster-tweet/tokenizer.json', 'LastModified': datetime.datetime(2025, 6, 21, 0, 23, 52, tzinfo=tzutc()), 'ETag': '\"76b09dc8a67b5477895ae0eaa550f693\"', 'ChecksumAlgorithm': ['CRC64NVME'], 'ChecksumType': 'FULL_OBJECT', 'Size': 711649, 'StorageClass': 'STANDARD'}, {'Key': 'ml-models/tinybert-disaster-tweet/tokenizer_config.json', 'LastModified': datetime.datetime(2025, 6, 21, 0, 23, 53, tzinfo=tzutc()), 'ETag': '\"478bbf57f9a7e38a931f65ae1c1fd90d\"', 'ChecksumAlgorithm': ['CRC64NVME'], 'ChecksumType': 'FULL_OBJECT', 'Size': 1358, 'StorageClass': 'STANDARD'}, {'Key': 'ml-models/tinybert-disaster-tweet/training_args.bin', 'LastModified': datetime.datetime(2025, 6, 21, 0, 23, 53, tzinfo=tzutc()), 'ETag': '\"41b8434293a7737e8d9fd0d1be56ddb7\"', 'ChecksumAlgorithm': ['CRC64NVME'], 'ChecksumType': 'FULL_OBJECT', 'Size': 5649, 'StorageClass': 'STANDARD'}, {'Key': 'ml-models/tinybert-disaster-tweet/vocab.txt', 'LastModified': datetime.datetime(2025, 6, 21, 0, 23, 53, tzinfo=tzutc()), 'ETag': '\"64800d5d8528ce344256daf115d4965e\"', 'ChecksumAlgorithm': ['CRC64NVME'], 'ChecksumType': 'FULL_OBJECT', 'Size': 231508, 'StorageClass': 'STANDARD'}], 'Name': 'magnolima-mlops-2025', 'Prefix': 'ml-models/tinybert-disaster-tweet/', 'MaxKeys': 1000, 'EncodingType': 'url', 'KeyCount': 7}\n"
     ]
    }
   ],
   "source": [
    "paginator = s3.get_paginator('list_objects_v2')\n",
    "\n",
    "for result in paginator.paginate(Bucket=bucket_name, Prefix=s3_prefix):\n",
    "    print(result)"
   ]
  },
  {
   "cell_type": "code",
   "execution_count": 5,
   "id": "77b61392",
   "metadata": {},
   "outputs": [
    {
     "ename": "ParamValidationError",
     "evalue": "Parameter validation failed:\nInvalid bucket name \"magnolima-mlops-2025 \": Bucket name must match the regex \"^[a-zA-Z0-9.\\-_]{1,255}$\" or be an ARN matching the regex \"^arn:(aws).*:(s3|s3-object-lambda):[a-z\\-0-9]*:[0-9]{12}:accesspoint[/:][a-zA-Z0-9\\-.]{1,63}$|^arn:(aws).*:s3-outposts:[a-z\\-0-9]+:[0-9]{12}:outpost[/:][a-zA-Z0-9\\-]{1,63}[/:]accesspoint[/:][a-zA-Z0-9\\-]{1,63}$\"",
     "output_type": "error",
     "traceback": [
      "\u001b[31m---------------------------------------------------------------------------\u001b[39m",
      "\u001b[31mParamValidationError\u001b[39m                      Traceback (most recent call last)",
      "\u001b[36mCell\u001b[39m\u001b[36m \u001b[39m\u001b[32mIn[5]\u001b[39m\u001b[32m, line 1\u001b[39m\n\u001b[32m----> \u001b[39m\u001b[32m1\u001b[39m \u001b[38;5;28;43;01mfor\u001b[39;49;00m\u001b[43m \u001b[49m\u001b[43mresult\u001b[49m\u001b[43m \u001b[49m\u001b[38;5;129;43;01min\u001b[39;49;00m\u001b[43m \u001b[49m\u001b[43mpaginator\u001b[49m\u001b[43m.\u001b[49m\u001b[43mpaginate\u001b[49m\u001b[43m(\u001b[49m\u001b[43mBucket\u001b[49m\u001b[43m=\u001b[49m\u001b[43mbucket_name\u001b[49m\u001b[43m,\u001b[49m\u001b[43m \u001b[49m\u001b[43mPrefix\u001b[49m\u001b[43m=\u001b[49m\u001b[43ms3_prefix\u001b[49m\u001b[43m)\u001b[49m\u001b[43m:\u001b[49m\n\u001b[32m      2\u001b[39m \u001b[43m    \u001b[49m\u001b[38;5;28;43mprint\u001b[39;49m\u001b[43m(\u001b[49m\u001b[43mresult\u001b[49m\u001b[43m)\u001b[49m\n",
      "\u001b[36mFile \u001b[39m\u001b[32mc:\\Users\\magno\\OneDrive\\Área de Trabalho\\ml_deployment\\.venv\\Lib\\site-packages\\botocore\\paginate.py:272\u001b[39m, in \u001b[36mPageIterator.__iter__\u001b[39m\u001b[34m(self)\u001b[39m\n\u001b[32m    270\u001b[39m \u001b[38;5;28mself\u001b[39m._inject_starting_params(current_kwargs)\n\u001b[32m    271\u001b[39m \u001b[38;5;28;01mwhile\u001b[39;00m \u001b[38;5;28;01mTrue\u001b[39;00m:\n\u001b[32m--> \u001b[39m\u001b[32m272\u001b[39m     response = \u001b[38;5;28;43mself\u001b[39;49m\u001b[43m.\u001b[49m\u001b[43m_make_request\u001b[49m\u001b[43m(\u001b[49m\u001b[43mcurrent_kwargs\u001b[49m\u001b[43m)\u001b[49m\n\u001b[32m    273\u001b[39m     parsed = \u001b[38;5;28mself\u001b[39m._extract_parsed_response(response)\n\u001b[32m    274\u001b[39m     \u001b[38;5;28;01mif\u001b[39;00m first_request:\n\u001b[32m    275\u001b[39m         \u001b[38;5;66;03m# The first request is handled differently.  We could\u001b[39;00m\n\u001b[32m    276\u001b[39m         \u001b[38;5;66;03m# possibly have a resume/starting token that tells us where\u001b[39;00m\n\u001b[32m    277\u001b[39m         \u001b[38;5;66;03m# to index into the retrieved page.\u001b[39;00m\n",
      "\u001b[36mFile \u001b[39m\u001b[32mc:\\Users\\magno\\OneDrive\\Área de Trabalho\\ml_deployment\\.venv\\Lib\\site-packages\\botocore\\context.py:123\u001b[39m, in \u001b[36mwith_current_context.<locals>.decorator.<locals>.wrapper\u001b[39m\u001b[34m(*args, **kwargs)\u001b[39m\n\u001b[32m    121\u001b[39m \u001b[38;5;28;01mif\u001b[39;00m hook:\n\u001b[32m    122\u001b[39m     hook()\n\u001b[32m--> \u001b[39m\u001b[32m123\u001b[39m \u001b[38;5;28;01mreturn\u001b[39;00m \u001b[43mfunc\u001b[49m\u001b[43m(\u001b[49m\u001b[43m*\u001b[49m\u001b[43margs\u001b[49m\u001b[43m,\u001b[49m\u001b[43m \u001b[49m\u001b[43m*\u001b[49m\u001b[43m*\u001b[49m\u001b[43mkwargs\u001b[49m\u001b[43m)\u001b[49m\n",
      "\u001b[36mFile \u001b[39m\u001b[32mc:\\Users\\magno\\OneDrive\\Área de Trabalho\\ml_deployment\\.venv\\Lib\\site-packages\\botocore\\paginate.py:360\u001b[39m, in \u001b[36mPageIterator._make_request\u001b[39m\u001b[34m(self, current_kwargs)\u001b[39m\n\u001b[32m    358\u001b[39m \u001b[38;5;129m@with_current_context\u001b[39m(partial(register_feature_id, \u001b[33m'\u001b[39m\u001b[33mPAGINATOR\u001b[39m\u001b[33m'\u001b[39m))\n\u001b[32m    359\u001b[39m \u001b[38;5;28;01mdef\u001b[39;00m\u001b[38;5;250m \u001b[39m\u001b[34m_make_request\u001b[39m(\u001b[38;5;28mself\u001b[39m, current_kwargs):\n\u001b[32m--> \u001b[39m\u001b[32m360\u001b[39m     \u001b[38;5;28;01mreturn\u001b[39;00m \u001b[38;5;28;43mself\u001b[39;49m\u001b[43m.\u001b[49m\u001b[43m_method\u001b[49m\u001b[43m(\u001b[49m\u001b[43m*\u001b[49m\u001b[43m*\u001b[49m\u001b[43mcurrent_kwargs\u001b[49m\u001b[43m)\u001b[49m\n",
      "\u001b[36mFile \u001b[39m\u001b[32mc:\\Users\\magno\\OneDrive\\Área de Trabalho\\ml_deployment\\.venv\\Lib\\site-packages\\botocore\\client.py:595\u001b[39m, in \u001b[36mClientCreator._create_api_method.<locals>._api_call\u001b[39m\u001b[34m(self, *args, **kwargs)\u001b[39m\n\u001b[32m    591\u001b[39m     \u001b[38;5;28;01mraise\u001b[39;00m \u001b[38;5;167;01mTypeError\u001b[39;00m(\n\u001b[32m    592\u001b[39m         \u001b[33mf\u001b[39m\u001b[33m\"\u001b[39m\u001b[38;5;132;01m{\u001b[39;00mpy_operation_name\u001b[38;5;132;01m}\u001b[39;00m\u001b[33m() only accepts keyword arguments.\u001b[39m\u001b[33m\"\u001b[39m\n\u001b[32m    593\u001b[39m     )\n\u001b[32m    594\u001b[39m \u001b[38;5;66;03m# The \"self\" in this scope is referring to the BaseClient.\u001b[39;00m\n\u001b[32m--> \u001b[39m\u001b[32m595\u001b[39m \u001b[38;5;28;01mreturn\u001b[39;00m \u001b[38;5;28;43mself\u001b[39;49m\u001b[43m.\u001b[49m\u001b[43m_make_api_call\u001b[49m\u001b[43m(\u001b[49m\u001b[43moperation_name\u001b[49m\u001b[43m,\u001b[49m\u001b[43m \u001b[49m\u001b[43mkwargs\u001b[49m\u001b[43m)\u001b[49m\n",
      "\u001b[36mFile \u001b[39m\u001b[32mc:\\Users\\magno\\OneDrive\\Área de Trabalho\\ml_deployment\\.venv\\Lib\\site-packages\\botocore\\context.py:123\u001b[39m, in \u001b[36mwith_current_context.<locals>.decorator.<locals>.wrapper\u001b[39m\u001b[34m(*args, **kwargs)\u001b[39m\n\u001b[32m    121\u001b[39m \u001b[38;5;28;01mif\u001b[39;00m hook:\n\u001b[32m    122\u001b[39m     hook()\n\u001b[32m--> \u001b[39m\u001b[32m123\u001b[39m \u001b[38;5;28;01mreturn\u001b[39;00m \u001b[43mfunc\u001b[49m\u001b[43m(\u001b[49m\u001b[43m*\u001b[49m\u001b[43margs\u001b[49m\u001b[43m,\u001b[49m\u001b[43m \u001b[49m\u001b[43m*\u001b[49m\u001b[43m*\u001b[49m\u001b[43mkwargs\u001b[49m\u001b[43m)\u001b[49m\n",
      "\u001b[36mFile \u001b[39m\u001b[32mc:\\Users\\magno\\OneDrive\\Área de Trabalho\\ml_deployment\\.venv\\Lib\\site-packages\\botocore\\client.py:999\u001b[39m, in \u001b[36mBaseClient._make_api_call\u001b[39m\u001b[34m(self, operation_name, api_params)\u001b[39m\n\u001b[32m    988\u001b[39m     logger.debug(\n\u001b[32m    989\u001b[39m         \u001b[33m'\u001b[39m\u001b[33mWarning: \u001b[39m\u001b[38;5;132;01m%s\u001b[39;00m\u001b[33m.\u001b[39m\u001b[38;5;132;01m%s\u001b[39;00m\u001b[33m() is deprecated\u001b[39m\u001b[33m'\u001b[39m, service_name, operation_name\n\u001b[32m    990\u001b[39m     )\n\u001b[32m    991\u001b[39m request_context = {\n\u001b[32m    992\u001b[39m     \u001b[33m'\u001b[39m\u001b[33mclient_region\u001b[39m\u001b[33m'\u001b[39m: \u001b[38;5;28mself\u001b[39m.meta.region_name,\n\u001b[32m    993\u001b[39m     \u001b[33m'\u001b[39m\u001b[33mclient_config\u001b[39m\u001b[33m'\u001b[39m: \u001b[38;5;28mself\u001b[39m.meta.config,\n\u001b[32m   (...)\u001b[39m\u001b[32m    996\u001b[39m     \u001b[33m'\u001b[39m\u001b[33munsigned_payload\u001b[39m\u001b[33m'\u001b[39m: operation_model.unsigned_payload,\n\u001b[32m    997\u001b[39m }\n\u001b[32m--> \u001b[39m\u001b[32m999\u001b[39m api_params = \u001b[38;5;28;43mself\u001b[39;49m\u001b[43m.\u001b[49m\u001b[43m_emit_api_params\u001b[49m\u001b[43m(\u001b[49m\n\u001b[32m   1000\u001b[39m \u001b[43m    \u001b[49m\u001b[43mapi_params\u001b[49m\u001b[43m=\u001b[49m\u001b[43mapi_params\u001b[49m\u001b[43m,\u001b[49m\n\u001b[32m   1001\u001b[39m \u001b[43m    \u001b[49m\u001b[43moperation_model\u001b[49m\u001b[43m=\u001b[49m\u001b[43moperation_model\u001b[49m\u001b[43m,\u001b[49m\n\u001b[32m   1002\u001b[39m \u001b[43m    \u001b[49m\u001b[43mcontext\u001b[49m\u001b[43m=\u001b[49m\u001b[43mrequest_context\u001b[49m\u001b[43m,\u001b[49m\n\u001b[32m   1003\u001b[39m \u001b[43m\u001b[49m\u001b[43m)\u001b[49m\n\u001b[32m   1004\u001b[39m (\n\u001b[32m   1005\u001b[39m     endpoint_url,\n\u001b[32m   1006\u001b[39m     additional_headers,\n\u001b[32m   (...)\u001b[39m\u001b[32m   1009\u001b[39m     operation_model, api_params, request_context\n\u001b[32m   1010\u001b[39m )\n\u001b[32m   1011\u001b[39m \u001b[38;5;28;01mif\u001b[39;00m properties:\n\u001b[32m   1012\u001b[39m     \u001b[38;5;66;03m# Pass arbitrary endpoint info with the Request\u001b[39;00m\n\u001b[32m   1013\u001b[39m     \u001b[38;5;66;03m# for use during construction.\u001b[39;00m\n",
      "\u001b[36mFile \u001b[39m\u001b[32mc:\\Users\\magno\\OneDrive\\Área de Trabalho\\ml_deployment\\.venv\\Lib\\site-packages\\botocore\\client.py:1118\u001b[39m, in \u001b[36mBaseClient._emit_api_params\u001b[39m\u001b[34m(self, api_params, operation_model, context)\u001b[39m\n\u001b[32m   1110\u001b[39m responses = \u001b[38;5;28mself\u001b[39m.meta.events.emit(\n\u001b[32m   1111\u001b[39m     \u001b[33mf\u001b[39m\u001b[33m'\u001b[39m\u001b[33mprovide-client-params.\u001b[39m\u001b[38;5;132;01m{\u001b[39;00mservice_id\u001b[38;5;132;01m}\u001b[39;00m\u001b[33m.\u001b[39m\u001b[38;5;132;01m{\u001b[39;00moperation_name\u001b[38;5;132;01m}\u001b[39;00m\u001b[33m'\u001b[39m,\n\u001b[32m   1112\u001b[39m     params=api_params,\n\u001b[32m   1113\u001b[39m     model=operation_model,\n\u001b[32m   1114\u001b[39m     context=context,\n\u001b[32m   1115\u001b[39m )\n\u001b[32m   1116\u001b[39m api_params = first_non_none_response(responses, default=api_params)\n\u001b[32m-> \u001b[39m\u001b[32m1118\u001b[39m \u001b[38;5;28;43mself\u001b[39;49m\u001b[43m.\u001b[49m\u001b[43mmeta\u001b[49m\u001b[43m.\u001b[49m\u001b[43mevents\u001b[49m\u001b[43m.\u001b[49m\u001b[43memit\u001b[49m\u001b[43m(\u001b[49m\n\u001b[32m   1119\u001b[39m \u001b[43m    \u001b[49m\u001b[33;43mf\u001b[39;49m\u001b[33;43m'\u001b[39;49m\u001b[33;43mbefore-parameter-build.\u001b[39;49m\u001b[38;5;132;43;01m{\u001b[39;49;00m\u001b[43mservice_id\u001b[49m\u001b[38;5;132;43;01m}\u001b[39;49;00m\u001b[33;43m.\u001b[39;49m\u001b[38;5;132;43;01m{\u001b[39;49;00m\u001b[43moperation_name\u001b[49m\u001b[38;5;132;43;01m}\u001b[39;49;00m\u001b[33;43m'\u001b[39;49m\u001b[43m,\u001b[49m\n\u001b[32m   1120\u001b[39m \u001b[43m    \u001b[49m\u001b[43mparams\u001b[49m\u001b[43m=\u001b[49m\u001b[43mapi_params\u001b[49m\u001b[43m,\u001b[49m\n\u001b[32m   1121\u001b[39m \u001b[43m    \u001b[49m\u001b[43mmodel\u001b[49m\u001b[43m=\u001b[49m\u001b[43moperation_model\u001b[49m\u001b[43m,\u001b[49m\n\u001b[32m   1122\u001b[39m \u001b[43m    \u001b[49m\u001b[43mcontext\u001b[49m\u001b[43m=\u001b[49m\u001b[43mcontext\u001b[49m\u001b[43m,\u001b[49m\n\u001b[32m   1123\u001b[39m \u001b[43m\u001b[49m\u001b[43m)\u001b[49m\n\u001b[32m   1124\u001b[39m \u001b[38;5;28;01mreturn\u001b[39;00m api_params\n",
      "\u001b[36mFile \u001b[39m\u001b[32mc:\\Users\\magno\\OneDrive\\Área de Trabalho\\ml_deployment\\.venv\\Lib\\site-packages\\botocore\\hooks.py:412\u001b[39m, in \u001b[36mEventAliaser.emit\u001b[39m\u001b[34m(self, event_name, **kwargs)\u001b[39m\n\u001b[32m    410\u001b[39m \u001b[38;5;28;01mdef\u001b[39;00m\u001b[38;5;250m \u001b[39m\u001b[34memit\u001b[39m(\u001b[38;5;28mself\u001b[39m, event_name, **kwargs):\n\u001b[32m    411\u001b[39m     aliased_event_name = \u001b[38;5;28mself\u001b[39m._alias_event_name(event_name)\n\u001b[32m--> \u001b[39m\u001b[32m412\u001b[39m     \u001b[38;5;28;01mreturn\u001b[39;00m \u001b[38;5;28;43mself\u001b[39;49m\u001b[43m.\u001b[49m\u001b[43m_emitter\u001b[49m\u001b[43m.\u001b[49m\u001b[43memit\u001b[49m\u001b[43m(\u001b[49m\u001b[43maliased_event_name\u001b[49m\u001b[43m,\u001b[49m\u001b[43m \u001b[49m\u001b[43m*\u001b[49m\u001b[43m*\u001b[49m\u001b[43mkwargs\u001b[49m\u001b[43m)\u001b[49m\n",
      "\u001b[36mFile \u001b[39m\u001b[32mc:\\Users\\magno\\OneDrive\\Área de Trabalho\\ml_deployment\\.venv\\Lib\\site-packages\\botocore\\hooks.py:256\u001b[39m, in \u001b[36mHierarchicalEmitter.emit\u001b[39m\u001b[34m(self, event_name, **kwargs)\u001b[39m\n\u001b[32m    245\u001b[39m \u001b[38;5;28;01mdef\u001b[39;00m\u001b[38;5;250m \u001b[39m\u001b[34memit\u001b[39m(\u001b[38;5;28mself\u001b[39m, event_name, **kwargs):\n\u001b[32m    246\u001b[39m \u001b[38;5;250m    \u001b[39m\u001b[33;03m\"\"\"\u001b[39;00m\n\u001b[32m    247\u001b[39m \u001b[33;03m    Emit an event by name with arguments passed as keyword args.\u001b[39;00m\n\u001b[32m    248\u001b[39m \n\u001b[32m   (...)\u001b[39m\u001b[32m    254\u001b[39m \u001b[33;03m             handlers.\u001b[39;00m\n\u001b[32m    255\u001b[39m \u001b[33;03m    \"\"\"\u001b[39;00m\n\u001b[32m--> \u001b[39m\u001b[32m256\u001b[39m     \u001b[38;5;28;01mreturn\u001b[39;00m \u001b[38;5;28;43mself\u001b[39;49m\u001b[43m.\u001b[49m\u001b[43m_emit\u001b[49m\u001b[43m(\u001b[49m\u001b[43mevent_name\u001b[49m\u001b[43m,\u001b[49m\u001b[43m \u001b[49m\u001b[43mkwargs\u001b[49m\u001b[43m)\u001b[49m\n",
      "\u001b[36mFile \u001b[39m\u001b[32mc:\\Users\\magno\\OneDrive\\Área de Trabalho\\ml_deployment\\.venv\\Lib\\site-packages\\botocore\\hooks.py:239\u001b[39m, in \u001b[36mHierarchicalEmitter._emit\u001b[39m\u001b[34m(self, event_name, kwargs, stop_on_response)\u001b[39m\n\u001b[32m    237\u001b[39m \u001b[38;5;28;01mfor\u001b[39;00m handler \u001b[38;5;129;01min\u001b[39;00m handlers_to_call:\n\u001b[32m    238\u001b[39m     logger.debug(\u001b[33m'\u001b[39m\u001b[33mEvent \u001b[39m\u001b[38;5;132;01m%s\u001b[39;00m\u001b[33m: calling handler \u001b[39m\u001b[38;5;132;01m%s\u001b[39;00m\u001b[33m'\u001b[39m, event_name, handler)\n\u001b[32m--> \u001b[39m\u001b[32m239\u001b[39m     response = \u001b[43mhandler\u001b[49m\u001b[43m(\u001b[49m\u001b[43m*\u001b[49m\u001b[43m*\u001b[49m\u001b[43mkwargs\u001b[49m\u001b[43m)\u001b[49m\n\u001b[32m    240\u001b[39m     responses.append((handler, response))\n\u001b[32m    241\u001b[39m     \u001b[38;5;28;01mif\u001b[39;00m stop_on_response \u001b[38;5;129;01mand\u001b[39;00m response \u001b[38;5;129;01mis\u001b[39;00m \u001b[38;5;129;01mnot\u001b[39;00m \u001b[38;5;28;01mNone\u001b[39;00m:\n",
      "\u001b[36mFile \u001b[39m\u001b[32mc:\\Users\\magno\\OneDrive\\Área de Trabalho\\ml_deployment\\.venv\\Lib\\site-packages\\botocore\\handlers.py:298\u001b[39m, in \u001b[36mvalidate_bucket_name\u001b[39m\u001b[34m(params, **kwargs)\u001b[39m\n\u001b[32m    292\u001b[39m \u001b[38;5;28;01mif\u001b[39;00m \u001b[38;5;129;01mnot\u001b[39;00m VALID_BUCKET.search(bucket) \u001b[38;5;129;01mand\u001b[39;00m \u001b[38;5;129;01mnot\u001b[39;00m VALID_S3_ARN.search(bucket):\n\u001b[32m    293\u001b[39m     error_msg = (\n\u001b[32m    294\u001b[39m         \u001b[33mf\u001b[39m\u001b[33m'\u001b[39m\u001b[33mInvalid bucket name \u001b[39m\u001b[33m\"\u001b[39m\u001b[38;5;132;01m{\u001b[39;00mbucket\u001b[38;5;132;01m}\u001b[39;00m\u001b[33m\"\u001b[39m\u001b[33m: Bucket name must match \u001b[39m\u001b[33m'\u001b[39m\n\u001b[32m    295\u001b[39m         \u001b[33mf\u001b[39m\u001b[33m'\u001b[39m\u001b[33mthe regex \u001b[39m\u001b[33m\"\u001b[39m\u001b[38;5;132;01m{\u001b[39;00mVALID_BUCKET.pattern\u001b[38;5;132;01m}\u001b[39;00m\u001b[33m\"\u001b[39m\u001b[33m or be an ARN matching \u001b[39m\u001b[33m'\u001b[39m\n\u001b[32m    296\u001b[39m         \u001b[33mf\u001b[39m\u001b[33m'\u001b[39m\u001b[33mthe regex \u001b[39m\u001b[33m\"\u001b[39m\u001b[38;5;132;01m{\u001b[39;00mVALID_S3_ARN.pattern\u001b[38;5;132;01m}\u001b[39;00m\u001b[33m\"\u001b[39m\u001b[33m'\u001b[39m\n\u001b[32m    297\u001b[39m     )\n\u001b[32m--> \u001b[39m\u001b[32m298\u001b[39m     \u001b[38;5;28;01mraise\u001b[39;00m ParamValidationError(report=error_msg)\n",
      "\u001b[31mParamValidationError\u001b[39m: Parameter validation failed:\nInvalid bucket name \"magnolima-mlops-2025 \": Bucket name must match the regex \"^[a-zA-Z0-9.\\-_]{1,255}$\" or be an ARN matching the regex \"^arn:(aws).*:(s3|s3-object-lambda):[a-z\\-0-9]*:[0-9]{12}:accesspoint[/:][a-zA-Z0-9\\-.]{1,63}$|^arn:(aws).*:s3-outposts:[a-z\\-0-9]+:[0-9]{12}:outpost[/:][a-zA-Z0-9\\-]{1,63}[/:]accesspoint[/:][a-zA-Z0-9\\-]{1,63}$\""
     ]
    }
   ],
   "source": [
    "for result in paginator.paginate(Bucket=bucket_name, Prefix=s3_prefix):\n",
    "    print(result)"
   ]
  },
  {
   "cell_type": "code",
   "execution_count": null,
   "id": "1bc7ccd9",
   "metadata": {},
   "outputs": [],
   "source": []
  }
 ],
 "metadata": {
  "kernelspec": {
   "display_name": "train_deploy_venv",
   "language": "python",
   "name": "python3"
  },
  "language_info": {
   "codemirror_mode": {
    "name": "ipython",
    "version": 3
   },
   "file_extension": ".py",
   "mimetype": "text/x-python",
   "name": "python",
   "nbconvert_exporter": "python",
   "pygments_lexer": "ipython3",
   "version": "3.13.5"
  }
 },
 "nbformat": 4,
 "nbformat_minor": 5
}
