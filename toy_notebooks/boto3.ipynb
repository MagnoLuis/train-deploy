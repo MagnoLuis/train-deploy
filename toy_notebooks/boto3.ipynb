{
 "cells": [
  {
   "cell_type": "code",
   "execution_count": 1,
   "id": "a52a8786",
   "metadata": {},
   "outputs": [],
   "source": [
    "import boto3\n",
    "import os"
   ]
  },
  {
   "cell_type": "code",
   "execution_count": 2,
   "id": "70fbe304",
   "metadata": {},
   "outputs": [],
   "source": [
    "ec2 = boto3.client('ec2', region_name=os.environ.get('AWS_REGION', 'us-east-1'))"
   ]
  },
  {
   "cell_type": "code",
   "execution_count": 3,
   "id": "951f60f2",
   "metadata": {},
   "outputs": [
    {
     "data": {
      "text/plain": [
       "{'Reservations': [],\n",
       " 'ResponseMetadata': {'RequestId': '91d58049-72cb-47d6-bf7a-9d9be47a1023',\n",
       "  'HTTPStatusCode': 200,\n",
       "  'HTTPHeaders': {'x-amzn-requestid': '91d58049-72cb-47d6-bf7a-9d9be47a1023',\n",
       "   'cache-control': 'no-cache, no-store',\n",
       "   'strict-transport-security': 'max-age=31536000; includeSubDomains',\n",
       "   'content-type': 'text/xml;charset=UTF-8',\n",
       "   'content-length': '219',\n",
       "   'date': 'Thu, 19 Jun 2025 00:45:05 GMT',\n",
       "   'server': 'AmazonEC2'},\n",
       "  'RetryAttempts': 0}}"
      ]
     },
     "execution_count": 3,
     "metadata": {},
     "output_type": "execute_result"
    }
   ],
   "source": [
    "ec2.describe_instances()"
   ]
  },
  {
   "cell_type": "code",
   "execution_count": null,
   "id": "791ebaf4",
   "metadata": {},
   "outputs": [],
   "source": []
  }
 ],
 "metadata": {
  "kernelspec": {
   "display_name": "ml_deployment",
   "language": "python",
   "name": "python3"
  },
  "language_info": {
   "codemirror_mode": {
    "name": "ipython",
    "version": 3
   },
   "file_extension": ".py",
   "mimetype": "text/x-python",
   "name": "python",
   "nbconvert_exporter": "python",
   "pygments_lexer": "ipython3",
   "version": "3.13.5"
  }
 },
 "nbformat": 4,
 "nbformat_minor": 5
}
